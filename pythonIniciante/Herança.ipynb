{
 "cells": [
  {
   "cell_type": "code",
   "execution_count": 14,
   "id": "da6c2315-9668-4607-9887-9429adcc8b82",
   "metadata": {},
   "outputs": [],
   "source": [
    "class Funcionario():\n",
    "    def __init__(self, nome, salario):\n",
    "        self.nome = nome\n",
    "        self.salario = salario\n",
    "\n",
    "    def dados(self):\n",
    "        return {'nome': self.nome, 'salario': self.salario}"
   ]
  },
  {
   "cell_type": "code",
   "execution_count": 15,
   "id": "c358f10f-6ada-4389-a817-55d59e7ec365",
   "metadata": {},
   "outputs": [],
   "source": [
    "fabio = Funcionario('Fábio', 7000)"
   ]
  },
  {
   "cell_type": "code",
   "execution_count": 16,
   "id": "86f58416-8ce3-4824-8f97-e6f80d54c47e",
   "metadata": {},
   "outputs": [
    {
     "data": {
      "text/plain": [
       "{'nome': 'Fábio', 'salario': 7000}"
      ]
     },
     "execution_count": 16,
     "metadata": {},
     "output_type": "execute_result"
    }
   ],
   "source": [
    "fabio.dados()"
   ]
  },
  {
   "cell_type": "code",
   "execution_count": 17,
   "id": "6d469278-b78a-4ea7-be2e-241ca33d86e8",
   "metadata": {},
   "outputs": [],
   "source": [
    "class Admin(Funcionario):\n",
    "    def __init__(self, nome, salario):\n",
    "        super().__init__(nome, salario)\n",
    "    def atualizar_dados(self, nome):\n",
    "        self.nome = nome\n",
    "        return self.dados()"
   ]
  },
  {
   "cell_type": "code",
   "execution_count": 18,
   "id": "5db3d9c8-558c-42f9-a283-d8cc0c15c31a",
   "metadata": {},
   "outputs": [],
   "source": [
    "fernando = Admin('Fernando', 14000)"
   ]
  },
  {
   "cell_type": "code",
   "execution_count": 19,
   "id": "54079352-59bf-475a-8904-01c47cd81c03",
   "metadata": {},
   "outputs": [
    {
     "data": {
      "text/plain": [
       "{'nome': 'Fábio', 'salario': 7000}"
      ]
     },
     "execution_count": 19,
     "metadata": {},
     "output_type": "execute_result"
    }
   ],
   "source": [
    "fabio.dados()"
   ]
  },
  {
   "cell_type": "code",
   "execution_count": 20,
   "id": "117e464f-b0e4-48cc-b507-0efc796b9e3f",
   "metadata": {},
   "outputs": [
    {
     "data": {
      "text/plain": [
       "{'nome': 'Fernando', 'salario': 14000}"
      ]
     },
     "execution_count": 20,
     "metadata": {},
     "output_type": "execute_result"
    }
   ],
   "source": [
    "fernando.dados()"
   ]
  },
  {
   "cell_type": "code",
   "execution_count": 21,
   "id": "dd20983a-ffde-4efc-8969-fcc988251826",
   "metadata": {},
   "outputs": [
    {
     "data": {
      "text/plain": [
       "{'nome': 'Fernandinho', 'salario': 14000}"
      ]
     },
     "execution_count": 21,
     "metadata": {},
     "output_type": "execute_result"
    }
   ],
   "source": [
    "fernando.atualizar_dados('Fernandinho')"
   ]
  }
 ],
 "metadata": {
  "kernelspec": {
   "display_name": "Python 3 (ipykernel)",
   "language": "python",
   "name": "python3"
  },
  "language_info": {
   "codemirror_mode": {
    "name": "ipython",
    "version": 3
   },
   "file_extension": ".py",
   "mimetype": "text/x-python",
   "name": "python",
   "nbconvert_exporter": "python",
   "pygments_lexer": "ipython3",
   "version": "3.11.4"
  }
 },
 "nbformat": 4,
 "nbformat_minor": 5
}
