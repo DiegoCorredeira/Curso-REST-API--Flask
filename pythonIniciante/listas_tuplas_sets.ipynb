{
 "cells": [
  {
   "cell_type": "code",
   "execution_count": 106,
   "id": "db4cfd0c-4223-43a7-a79d-f532ce3cf2ff",
   "metadata": {},
   "outputs": [],
   "source": [
    "nota_1 = 3"
   ]
  },
  {
   "cell_type": "code",
   "execution_count": 106,
   "id": "8c20a074-ab23-4949-89f1-6989216e8cb0",
   "metadata": {},
   "outputs": [],
   "source": [
    "nota_1 = 3"
   ]
  },
  {
   "cell_type": "code",
   "execution_count": 107,
   "id": "5f3a8d97-8f47-497c-8dab-e1eb75a26045",
   "metadata": {},
   "outputs": [],
   "source": [
    "nota_2 = 5"
   ]
  },
  {
   "cell_type": "code",
   "execution_count": 108,
   "id": "8cfc1b4b-5f02-4649-b352-7b75ac72eddc",
   "metadata": {},
   "outputs": [],
   "source": [
    "nota_3 = 6"
   ]
  },
  {
   "cell_type": "code",
   "execution_count": 109,
   "id": "093a5e05-3ccb-4a4d-8dc4-604b04843f19",
   "metadata": {},
   "outputs": [],
   "source": [
    "nota_4 = 4"
   ]
  },
  {
   "cell_type": "code",
   "execution_count": 110,
   "id": "3f8c9501-c08f-41a6-88f0-d7e3f0216bed",
   "metadata": {},
   "outputs": [],
   "source": [
    "nota_5 = 8"
   ]
  },
  {
   "cell_type": "code",
   "execution_count": 111,
   "id": "764ea92b-9b88-4e6b-b59a-1b593e5f8db8",
   "metadata": {},
   "outputs": [
    {
     "name": "stdout",
     "output_type": "stream",
     "text": [
      "5.2\n"
     ]
    }
   ],
   "source": [
    "print((nota_1+nota_2+nota_3+nota_4+nota_5)/5)"
   ]
  },
  {
   "cell_type": "code",
   "execution_count": 112,
   "id": "7f58250f-c3ee-46f1-808c-f723821339f1",
   "metadata": {},
   "outputs": [],
   "source": [
    "nota = [3,5,6,4,8]"
   ]
  },
  {
   "cell_type": "code",
   "execution_count": 113,
   "id": "80ff2bf6-baa9-47f0-82a4-d27f01340266",
   "metadata": {},
   "outputs": [
    {
     "data": {
      "text/plain": [
       "[3, 5, 6, 4, 8]"
      ]
     },
     "execution_count": 113,
     "metadata": {},
     "output_type": "execute_result"
    }
   ],
   "source": [
    "nota"
   ]
  },
  {
   "cell_type": "code",
   "execution_count": 114,
   "id": "f024bd17-5a9c-475b-b880-f91e7c16346e",
   "metadata": {},
   "outputs": [],
   "source": [
    "nota.append(10)"
   ]
  },
  {
   "cell_type": "code",
   "execution_count": 115,
   "id": "e732cb8d-9895-4f6a-bca9-531a116ce741",
   "metadata": {},
   "outputs": [],
   "source": [
    "nota.append(8)"
   ]
  },
  {
   "cell_type": "code",
   "execution_count": 116,
   "id": "5f80349e-2d60-4558-b881-0224e8d2f551",
   "metadata": {},
   "outputs": [],
   "source": [
    "nota.append(9)"
   ]
  },
  {
   "cell_type": "code",
   "execution_count": 117,
   "id": "40fe3c72-9406-4b90-99e8-ec84812e4dca",
   "metadata": {},
   "outputs": [
    {
     "data": {
      "text/plain": [
       "[3, 5, 6, 4, 8, 10, 8, 9]"
      ]
     },
     "execution_count": 117,
     "metadata": {},
     "output_type": "execute_result"
    }
   ],
   "source": [
    "nota"
   ]
  },
  {
   "cell_type": "code",
   "execution_count": 118,
   "id": "bad40983-66e7-4f14-b956-f5d62bf0f6bf",
   "metadata": {},
   "outputs": [
    {
     "data": {
      "text/plain": [
       "8"
      ]
     },
     "execution_count": 118,
     "metadata": {},
     "output_type": "execute_result"
    }
   ],
   "source": [
    "len(nota)"
   ]
  },
  {
   "cell_type": "code",
   "execution_count": 119,
   "id": "5398ffbb-2bc8-41ae-987e-fcc7bd43b459",
   "metadata": {},
   "outputs": [
    {
     "data": {
      "text/plain": [
       "53"
      ]
     },
     "execution_count": 119,
     "metadata": {},
     "output_type": "execute_result"
    }
   ],
   "source": [
    "sum(nota)"
   ]
  },
  {
   "cell_type": "code",
   "execution_count": 120,
   "id": "1fba9776-9b97-43be-aa6c-fe20a8d2dfc0",
   "metadata": {
    "scrolled": true
   },
   "outputs": [
    {
     "data": {
      "text/plain": [
       "6.625"
      ]
     },
     "execution_count": 120,
     "metadata": {},
     "output_type": "execute_result"
    }
   ],
   "source": [
    "sum(nota)/len(nota)"
   ]
  },
  {
   "cell_type": "code",
   "execution_count": null,
   "id": "a02fdfc6-46e2-49dc-96c8-cb67fd57674b",
   "metadata": {},
   "outputs": [],
   "source": [
    "# Tuplas"
   ]
  },
  {
   "cell_type": "code",
   "execution_count": 121,
   "id": "5d7b4d27-2ccc-415a-ac8c-520939d2c88f",
   "metadata": {},
   "outputs": [],
   "source": [
    "tupla = (3,4,5)"
   ]
  },
  {
   "cell_type": "code",
   "execution_count": null,
   "id": "493e147a-1366-4287-8d87-17c00d0a95d4",
   "metadata": {},
   "outputs": [],
   "source": [
    "tupla += (4,) # Para adicionar um elemento em uma tupla, devemos adicionar a virgula no final."
   ]
  },
  {
   "cell_type": "code",
   "execution_count": 122,
   "id": "e815510d-07ca-4477-b2cd-01c00f7c72cf",
   "metadata": {},
   "outputs": [],
   "source": [
    "tupla = tupla + (7,)"
   ]
  },
  {
   "cell_type": "code",
   "execution_count": 123,
   "id": "85809354-7e36-49c0-82a4-e8707c212876",
   "metadata": {},
   "outputs": [
    {
     "data": {
      "text/plain": [
       "(3, 4, 5, 7)"
      ]
     },
     "execution_count": 123,
     "metadata": {},
     "output_type": "execute_result"
    }
   ],
   "source": [
    "tupla"
   ]
  },
  {
   "cell_type": "code",
   "execution_count": null,
   "id": "f038d90f-a7dd-4308-a18c-2760e45f8da5",
   "metadata": {},
   "outputs": [],
   "source": [
    "# Sets "
   ]
  },
  {
   "cell_type": "code",
   "execution_count": null,
   "id": "7badb7af-490a-46c6-846d-32531753d953",
   "metadata": {},
   "outputs": [],
   "source": [
    "set_nota = {1,2,3,4,5,3,2,1} # Sets nao podem ter valores repetidos e sao desordenados"
   ]
  },
  {
   "cell_type": "code",
   "execution_count": 125,
   "id": "8545f05e-7951-4e5f-926f-0772b39e8db0",
   "metadata": {},
   "outputs": [
    {
     "data": {
      "text/plain": [
       "{1, 2, 3, 4, 5}"
      ]
     },
     "execution_count": 125,
     "metadata": {},
     "output_type": "execute_result"
    }
   ],
   "source": [
    "set_nota "
   ]
  },
  {
   "cell_type": "code",
   "execution_count": 127,
   "id": "4dc75e71-b5c0-409b-b85c-83e806810a39",
   "metadata": {},
   "outputs": [],
   "source": [
    "set_nota.add(7)"
   ]
  },
  {
   "cell_type": "code",
   "execution_count": 128,
   "id": "610de3f7-1a7d-4265-af52-97065b99c703",
   "metadata": {},
   "outputs": [
    {
     "data": {
      "text/plain": [
       "{1, 2, 3, 4, 5, 7}"
      ]
     },
     "execution_count": 128,
     "metadata": {},
     "output_type": "execute_result"
    }
   ],
   "source": [
    "set_nota"
   ]
  }
 ],
 "metadata": {
  "kernelspec": {
   "display_name": "Python 3 (ipykernel)",
   "language": "python",
   "name": "python3"
  },
  "language_info": {
   "codemirror_mode": {
    "name": "ipython",
    "version": 3
   },
   "file_extension": ".py",
   "mimetype": "text/x-python",
   "name": "python",
   "nbconvert_exporter": "python",
   "pygments_lexer": "ipython3",
   "version": "3.11.4"
  }
 },
 "nbformat": 4,
 "nbformat_minor": 5
}
