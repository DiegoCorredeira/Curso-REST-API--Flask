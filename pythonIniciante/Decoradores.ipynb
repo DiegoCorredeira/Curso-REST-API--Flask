{
 "cells": [
  {
   "cell_type": "code",
   "execution_count": 1,
   "id": "7a3845f9-a935-4c69-afd8-23bf1391195c",
   "metadata": {},
   "outputs": [],
   "source": [
    "import functools"
   ]
  },
  {
   "cell_type": "code",
   "execution_count": 2,
   "id": "4479d841-e9d1-4f3b-87c9-28c20b9ff259",
   "metadata": {},
   "outputs": [],
   "source": [
    "def meu_decorador(funcao):\n",
    "    @functools.wraps(funcao)\n",
    "    def funcao_que_roda_funcao():\n",
    "        print(\"*********Embrulhando função no decorador!******************\")\n",
    "        funcao()\n",
    "        print(\"***************Fechando embrulho****************************\")\n",
    "    return funcao_que_roda_funcao"
   ]
  },
  {
   "cell_type": "code",
   "execution_count": 5,
   "id": "2cfd24e9-dd7c-4bed-8239-cd178beb2aeb",
   "metadata": {},
   "outputs": [],
   "source": [
    "@meu_decorador\n",
    "def minha_funcao():\n",
    "    print('Eu sou uma função')"
   ]
  },
  {
   "cell_type": "code",
   "execution_count": 6,
   "id": "b2f64cad-1a45-45e2-bcc2-73dbbe44911d",
   "metadata": {},
   "outputs": [
    {
     "name": "stdout",
     "output_type": "stream",
     "text": [
      "*********Embrulhando função no decorador!******************\n",
      "Eu sou uma função\n",
      "***************Fechando embrulho****************************\n"
     ]
    }
   ],
   "source": [
    "minha_funcao()"
   ]
  }
 ],
 "metadata": {
  "kernelspec": {
   "display_name": "Python 3 (ipykernel)",
   "language": "python",
   "name": "python3"
  },
  "language_info": {
   "codemirror_mode": {
    "name": "ipython",
    "version": 3
   },
   "file_extension": ".py",
   "mimetype": "text/x-python",
   "name": "python",
   "nbconvert_exporter": "python",
   "pygments_lexer": "ipython3",
   "version": "3.11.4"
  }
 },
 "nbformat": 4,
 "nbformat_minor": 5
}
