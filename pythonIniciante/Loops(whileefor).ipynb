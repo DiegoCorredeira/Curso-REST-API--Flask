{
 "cells": [
  {
   "cell_type": "code",
   "execution_count": 42,
   "id": "cc67b0d1-0d71-47da-964e-c2c757fb3aaf",
   "metadata": {},
   "outputs": [],
   "source": [
    "minha_variavel = \"Olá mundo!\""
   ]
  },
  {
   "cell_type": "code",
   "execution_count": 43,
   "id": "60dd53e1-3723-452c-bfb9-29ca0054919d",
   "metadata": {},
   "outputs": [
    {
     "data": {
      "text/plain": [
       "10"
      ]
     },
     "execution_count": 43,
     "metadata": {},
     "output_type": "execute_result"
    }
   ],
   "source": [
    "len(minha_variavel)"
   ]
  },
  {
   "cell_type": "code",
   "execution_count": 44,
   "id": "882f3ab7-fcc7-4c30-bb67-78330e9844cd",
   "metadata": {},
   "outputs": [
    {
     "data": {
      "text/plain": [
       "'O'"
      ]
     },
     "execution_count": 44,
     "metadata": {},
     "output_type": "execute_result"
    }
   ],
   "source": [
    "minha_variavel[0]"
   ]
  },
  {
   "cell_type": "code",
   "execution_count": 45,
   "id": "8895bbea-4a2a-40a7-a799-2e41715efc3c",
   "metadata": {},
   "outputs": [
    {
     "data": {
      "text/plain": [
       "'l'"
      ]
     },
     "execution_count": 45,
     "metadata": {},
     "output_type": "execute_result"
    }
   ],
   "source": [
    "minha_variavel[1]"
   ]
  },
  {
   "cell_type": "code",
   "execution_count": 46,
   "id": "61a1aa32-d74d-4ba0-83d1-3c7aad0983a3",
   "metadata": {},
   "outputs": [
    {
     "data": {
      "text/plain": [
       "'á'"
      ]
     },
     "execution_count": 46,
     "metadata": {},
     "output_type": "execute_result"
    }
   ],
   "source": [
    "minha_variavel[2]"
   ]
  },
  {
   "cell_type": "code",
   "execution_count": 47,
   "id": "345b0d6c-90e6-4261-9c8b-fcd07baeb045",
   "metadata": {},
   "outputs": [
    {
     "name": "stdout",
     "output_type": "stream",
     "text": [
      "O\n",
      "l\n",
      "á\n"
     ]
    }
   ],
   "source": [
    "print(minha_variavel[0])\n",
    "print(minha_variavel[1])\n",
    "print(minha_variavel[2])"
   ]
  },
  {
   "cell_type": "code",
   "execution_count": 48,
   "id": "5243266f-5617-493a-a662-709379bf4e29",
   "metadata": {},
   "outputs": [],
   "source": [
    "# for => para\n",
    "# while => enquanto"
   ]
  },
  {
   "cell_type": "code",
   "execution_count": 49,
   "id": "ad11ba37-6e54-4052-8fe9-060665e37769",
   "metadata": {},
   "outputs": [
    {
     "name": "stdout",
     "output_type": "stream",
     "text": [
      "O\n",
      "l\n",
      "á\n",
      " \n",
      "m\n",
      "u\n",
      "n\n",
      "d\n",
      "o\n",
      "!\n"
     ]
    }
   ],
   "source": [
    "# para cada letra dentro da minha variavel...\n",
    "for letra in minha_variavel:\n",
    "    print(letra)"
   ]
  },
  {
   "cell_type": "code",
   "execution_count": 50,
   "id": "4955a413-00d5-436b-b49b-3d65be461485",
   "metadata": {},
   "outputs": [],
   "source": [
    "lista = [0,1,2,3,4,5,6,7,8,9,10]"
   ]
  },
  {
   "cell_type": "code",
   "execution_count": 51,
   "id": "64f8ab39-70d8-4e35-aab6-9262c279b83e",
   "metadata": {},
   "outputs": [
    {
     "data": {
      "text/plain": [
       "[0, 1, 2, 3, 4, 5, 6, 7, 8, 9, 10]"
      ]
     },
     "execution_count": 51,
     "metadata": {},
     "output_type": "execute_result"
    }
   ],
   "source": [
    "lista"
   ]
  },
  {
   "cell_type": "code",
   "execution_count": 52,
   "id": "3f4ef689-eca1-4406-8d2d-625f094deac4",
   "metadata": {},
   "outputs": [
    {
     "data": {
      "text/plain": [
       "range(0, 10)"
      ]
     },
     "execution_count": 52,
     "metadata": {},
     "output_type": "execute_result"
    }
   ],
   "source": [
    "# range(start, stop, step)\n",
    "# start = 0 \n",
    "#step 1 \n",
    "range(10)"
   ]
  },
  {
   "cell_type": "code",
   "execution_count": 53,
   "id": "d23d285b-1bd3-4c06-b9e2-2246c3f78f1e",
   "metadata": {},
   "outputs": [
    {
     "data": {
      "text/plain": [
       "[0, 1, 2, 3, 4, 5, 6, 7, 8, 9, 10]"
      ]
     },
     "execution_count": 53,
     "metadata": {},
     "output_type": "execute_result"
    }
   ],
   "source": [
    "list(range(11))"
   ]
  },
  {
   "cell_type": "code",
   "execution_count": 54,
   "id": "d18e50af-0e1b-4dae-8f00-2d915fdc49ad",
   "metadata": {},
   "outputs": [
    {
     "name": "stdout",
     "output_type": "stream",
     "text": [
      "0\n",
      "4\n",
      "8\n",
      "12\n",
      "16\n",
      "20\n",
      "24\n",
      "28\n",
      "32\n",
      "36\n",
      "40\n",
      "44\n",
      "48\n",
      "52\n",
      "56\n",
      "60\n",
      "64\n",
      "68\n",
      "72\n",
      "76\n",
      "80\n",
      "84\n",
      "88\n",
      "92\n",
      "96\n"
     ]
    }
   ],
   "source": [
    "for i in range(0, 100, 4):\n",
    "    print(i)"
   ]
  },
  {
   "cell_type": "code",
   "execution_count": 55,
   "id": "3692ef8a-66ef-437c-a7ff-66632ce3750e",
   "metadata": {},
   "outputs": [
    {
     "name": "stdout",
     "output_type": "stream",
     "text": [
      "1\n",
      "3\n",
      "5\n",
      "7\n",
      "9\n"
     ]
    }
   ],
   "source": [
    "for impares in range(1, 11, 2):\n",
    "    print(impares)"
   ]
  },
  {
   "cell_type": "code",
   "execution_count": 56,
   "id": "2fbbb6f2-fc15-4a04-a922-d504567a6c55",
   "metadata": {},
   "outputs": [],
   "source": [
    "numeros_pares = [2,4,6,8,10,12,14,16]"
   ]
  },
  {
   "cell_type": "code",
   "execution_count": 57,
   "id": "c3bf39b7-d16f-452a-9888-cc91ac11f214",
   "metadata": {},
   "outputs": [
    {
     "name": "stdout",
     "output_type": "stream",
     "text": [
      "4\n",
      "16\n",
      "36\n",
      "64\n",
      "100\n",
      "144\n",
      "196\n",
      "256\n"
     ]
    }
   ],
   "source": [
    "for numero in numeros_pares:\n",
    "    print(numero ** 2)"
   ]
  },
  {
   "cell_type": "code",
   "execution_count": 59,
   "id": "dec0a763-4d99-4f26-a0ec-96431390576c",
   "metadata": {},
   "outputs": [
    {
     "name": "stdout",
     "output_type": "stream",
     "text": [
      "0\n",
      "1\n",
      "8\n",
      "27\n",
      "64\n",
      "125\n",
      "216\n",
      "343\n",
      "512\n",
      "729\n",
      "1000\n"
     ]
    }
   ],
   "source": [
    "# while => enquanto\n",
    "x = 0 \n",
    "while x <= 10:\n",
    "    print(x**3)\n",
    "    x += 1 # incrementação"
   ]
  },
  {
   "cell_type": "code",
   "execution_count": 73,
   "id": "13bbb50f-de92-4afa-a769-9008da906dec",
   "metadata": {},
   "outputs": [],
   "source": [
    "usuario_quiser = True"
   ]
  },
  {
   "cell_type": "code",
   "execution_count": 74,
   "id": "db0b45e5-ea12-4229-9fb6-49a29f2df870",
   "metadata": {},
   "outputs": [
    {
     "name": "stdin",
     "output_type": "stream",
     "text": [
      "Deseja continuar? s\n",
      "Deseja continuar? s\n",
      "Deseja continuar? s\n",
      "Deseja continuar? s\n",
      "Deseja continuar? s\n",
      "Deseja continuar? n\n"
     ]
    }
   ],
   "source": [
    "while usuario_quiser == True:\n",
    "    user_input = input(\"Deseja continuar?\").upper()\n",
    "    if user_input == 'N':\n",
    "        usuario_quiser = False"
   ]
  }
 ],
 "metadata": {
  "kernelspec": {
   "display_name": "Python 3 (ipykernel)",
   "language": "python",
   "name": "python3"
  },
  "language_info": {
   "codemirror_mode": {
    "name": "ipython",
    "version": 3
   },
   "file_extension": ".py",
   "mimetype": "text/x-python",
   "name": "python",
   "nbconvert_exporter": "python",
   "pygments_lexer": "ipython3",
   "version": "3.11.4"
  }
 },
 "nbformat": 4,
 "nbformat_minor": 5
}
