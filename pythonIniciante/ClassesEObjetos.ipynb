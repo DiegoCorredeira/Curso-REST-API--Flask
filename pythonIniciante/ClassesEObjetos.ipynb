{
 "cells": [
  {
   "cell_type": "code",
   "execution_count": 18,
   "id": "1c0fefae-26ca-41e8-9ded-34e6f903b058",
   "metadata": {},
   "outputs": [],
   "source": [
    "jogador_loteria = {\n",
    "    'nome': 'Pedro',\n",
    "    'numeros': (13,4,52,23,67,82)\n",
    "}"
   ]
  },
  {
   "cell_type": "code",
   "execution_count": 19,
   "id": "d594c611-df78-4a2e-9bb3-62e8adebe9d2",
   "metadata": {},
   "outputs": [],
   "source": [
    "jogador_loteria_2 = {\n",
    "    'nome': 'Pedro',\n",
    "    'numeros': (13,4,52,23,67,82)\n",
    "}"
   ]
  },
  {
   "cell_type": "code",
   "execution_count": 20,
   "id": "2fb300a1-d698-4f03-97f0-4b578d5a5fb9",
   "metadata": {},
   "outputs": [
    {
     "data": {
      "text/plain": [
       "True"
      ]
     },
     "execution_count": 20,
     "metadata": {},
     "output_type": "execute_result"
    }
   ],
   "source": [
    "jogador_loteria == jogador_loteria_2"
   ]
  },
  {
   "cell_type": "code",
   "execution_count": 21,
   "id": "37f89a68-98d9-431a-aa51-27f9d1d6ca12",
   "metadata": {},
   "outputs": [],
   "source": [
    "# Classe é um modelo ou uma representação de um objeto\n",
    "# Objeto é uma instância de uma classe"
   ]
  },
  {
   "cell_type": "code",
   "execution_count": 22,
   "id": "28c42fcb-3c48-4306-a908-a3d72bc36f0f",
   "metadata": {},
   "outputs": [],
   "source": [
    "class JogadorLoteria:\n",
    "    def __init__(self):\n",
    "        self.nome = \"Pedro\"\n",
    "        self.numeros = (13,4,52,23,67,82)\n",
    "\n",
    "    def total(self):\n",
    "        return sum(self.numeros)"
   ]
  },
  {
   "cell_type": "code",
   "execution_count": 23,
   "id": "efab9674-d0ce-44b1-ac1e-d649b791b07e",
   "metadata": {},
   "outputs": [],
   "source": [
    "jogador_1 = JogadorLoteria()"
   ]
  },
  {
   "cell_type": "code",
   "execution_count": 24,
   "id": "a7fc100f-1519-40b3-84a6-2598f1523adc",
   "metadata": {},
   "outputs": [],
   "source": [
    "jogador_2 = JogadorLoteria()"
   ]
  },
  {
   "cell_type": "code",
   "execution_count": 25,
   "id": "8876357d-1a3d-44ab-97af-f8c2aa5988bc",
   "metadata": {},
   "outputs": [
    {
     "data": {
      "text/plain": [
       "'Pedro'"
      ]
     },
     "execution_count": 25,
     "metadata": {},
     "output_type": "execute_result"
    }
   ],
   "source": [
    "jogador_1.nome"
   ]
  },
  {
   "cell_type": "code",
   "execution_count": 26,
   "id": "a8ce4aa2-d753-4dd4-9864-a9f4c75afe00",
   "metadata": {},
   "outputs": [
    {
     "data": {
      "text/plain": [
       "(13, 4, 52, 23, 67, 82)"
      ]
     },
     "execution_count": 26,
     "metadata": {},
     "output_type": "execute_result"
    }
   ],
   "source": [
    "jogador_1.numeros"
   ]
  },
  {
   "cell_type": "code",
   "execution_count": 27,
   "id": "b492952c-7559-4d52-a085-cdb3f8ff407e",
   "metadata": {},
   "outputs": [
    {
     "data": {
      "text/plain": [
       "241"
      ]
     },
     "execution_count": 27,
     "metadata": {},
     "output_type": "execute_result"
    }
   ],
   "source": [
    "jogador_1.total()"
   ]
  },
  {
   "cell_type": "code",
   "execution_count": 28,
   "id": "57a25fed-02e0-4ea5-aa2b-579bf08ff3d2",
   "metadata": {},
   "outputs": [
    {
     "data": {
      "text/plain": [
       "False"
      ]
     },
     "execution_count": 28,
     "metadata": {},
     "output_type": "execute_result"
    }
   ],
   "source": [
    "jogador_1 == jogador_2"
   ]
  }
 ],
 "metadata": {
  "kernelspec": {
   "display_name": "Python 3 (ipykernel)",
   "language": "python",
   "name": "python3"
  },
  "language_info": {
   "codemirror_mode": {
    "name": "ipython",
    "version": 3
   },
   "file_extension": ".py",
   "mimetype": "text/x-python",
   "name": "python",
   "nbconvert_exporter": "python",
   "pygments_lexer": "ipython3",
   "version": "3.11.4"
  }
 },
 "nbformat": 4,
 "nbformat_minor": 5
}
