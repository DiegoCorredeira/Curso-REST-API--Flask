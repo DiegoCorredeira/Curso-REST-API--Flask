{
 "cells": [
  {
   "cell_type": "code",
   "execution_count": 84,
   "id": "962f2e3c-c1f1-4b43-8b23-07b51cf5c33a",
   "metadata": {},
   "outputs": [],
   "source": [
    "import datetime"
   ]
  },
  {
   "cell_type": "code",
   "execution_count": 85,
   "id": "318dd192-f7b6-4f51-a597-8383330d1821",
   "metadata": {},
   "outputs": [],
   "source": [
    "minha_data = datetime.date(2023, 4, 11)"
   ]
  },
  {
   "cell_type": "code",
   "execution_count": 86,
   "id": "65ebd89e-c0e8-4682-b596-f94645bd79e3",
   "metadata": {},
   "outputs": [],
   "source": [
    "class Funcionario():\n",
    "    aumento = 1.04\n",
    "    def __init__(self, nome, salario):\n",
    "        self.nome = nome\n",
    "        self.salario = salario\n",
    "    def dados(self):\n",
    "        return {'nome': self.nome, 'salário': self.salario}\n",
    "    def aplicar_aumento(self):\n",
    "        self.salario = self.salario * self.aumento\n",
    "\n",
    "    # Posso pedir para ele fazer algo, sem ter que criar uma nova classe\n",
    "    @classmethod\n",
    "    def definir_novo_aumento(cls, novo_aumento):\n",
    "        cls.aumento = novo_aumento\n",
    "\n",
    "    @staticmethod # Não exige nenhum argumento da classe.\n",
    "    def dia_util(dia):\n",
    "        # segunda = 0\n",
    "        # domingo = 6 \n",
    "        if dia.weekday() == 5 or dia.weekday() == 6:\n",
    "            return \"Não é um dia útil\"\n",
    "        return \"Dia útil\"\n",
    "        \n",
    "    "
   ]
  },
  {
   "cell_type": "code",
   "execution_count": 87,
   "id": "1b8015a2-9d70-4144-88f0-7a612564ea8a",
   "metadata": {},
   "outputs": [],
   "source": [
    "fabio = Funcionario('Fabio', 7000)"
   ]
  },
  {
   "cell_type": "code",
   "execution_count": 88,
   "id": "9fe862b5-b202-439f-9629-ac2bfa1c0520",
   "metadata": {},
   "outputs": [],
   "source": [
    "fabio.aplicar_aumento()"
   ]
  },
  {
   "cell_type": "code",
   "execution_count": 89,
   "id": "d3687f34-4d4a-49e7-9016-2a7b5b0b1487",
   "metadata": {},
   "outputs": [
    {
     "data": {
      "text/plain": [
       "{'nome': 'Fabio', 'salário': 7280.0}"
      ]
     },
     "execution_count": 89,
     "metadata": {},
     "output_type": "execute_result"
    }
   ],
   "source": [
    "fabio.dados()"
   ]
  },
  {
   "cell_type": "code",
   "execution_count": 90,
   "id": "0a1d212b-edfc-4be3-b88e-84642488b219",
   "metadata": {},
   "outputs": [],
   "source": [
    "Funcionario.definir_novo_aumento(1.05)"
   ]
  },
  {
   "cell_type": "code",
   "execution_count": 91,
   "id": "40d63f7c-e331-4c12-8824-8afba3465e61",
   "metadata": {},
   "outputs": [],
   "source": [
    "pedro = Funcionario('Pedro', 5000)"
   ]
  },
  {
   "cell_type": "code",
   "execution_count": 92,
   "id": "7a1e9295-7fe6-49c9-9c11-799ac4833b65",
   "metadata": {},
   "outputs": [],
   "source": [
    "pedro.aplicar_aumento()"
   ]
  },
  {
   "cell_type": "code",
   "execution_count": 93,
   "id": "479077ad-90b1-43bb-ad2a-73eb6f5792ff",
   "metadata": {},
   "outputs": [
    {
     "data": {
      "text/plain": [
       "{'nome': 'Pedro', 'salário': 5250.0}"
      ]
     },
     "execution_count": 93,
     "metadata": {},
     "output_type": "execute_result"
    }
   ],
   "source": [
    "pedro.dados()"
   ]
  },
  {
   "cell_type": "code",
   "execution_count": 94,
   "id": "d76a3ef5-99ef-4cdc-b235-fcd8899bc0ea",
   "metadata": {},
   "outputs": [
    {
     "data": {
      "text/plain": [
       "'Dia útil'"
      ]
     },
     "execution_count": 94,
     "metadata": {},
     "output_type": "execute_result"
    }
   ],
   "source": [
    "Funcionario.dia_util(minha_data)"
   ]
  }
 ],
 "metadata": {
  "kernelspec": {
   "display_name": "Python 3 (ipykernel)",
   "language": "python",
   "name": "python3"
  },
  "language_info": {
   "codemirror_mode": {
    "name": "ipython",
    "version": 3
   },
   "file_extension": ".py",
   "mimetype": "text/x-python",
   "name": "python",
   "nbconvert_exporter": "python",
   "pygments_lexer": "ipython3",
   "version": "3.11.4"
  }
 },
 "nbformat": 4,
 "nbformat_minor": 5
}
