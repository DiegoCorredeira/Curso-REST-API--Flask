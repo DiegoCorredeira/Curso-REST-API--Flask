{
 "cells": [
  {
   "cell_type": "code",
   "execution_count": 7,
   "id": "0dbe39aa-872e-4214-aabc-c5c9fea94a33",
   "metadata": {},
   "outputs": [],
   "source": [
    "# args ==> argumentos\n",
    "# kwargs ==> keyword arguments (argumentos de palavras - chave )"
   ]
  },
  {
   "cell_type": "code",
   "execution_count": 8,
   "id": "3f98f4c0-8f24-4512-86bb-1252acc64522",
   "metadata": {},
   "outputs": [],
   "source": [
    "def meu_metodo(arg1, arg2):\n",
    "    return arg1 + arg2"
   ]
  },
  {
   "cell_type": "code",
   "execution_count": 9,
   "id": "de9c63c0-0e15-4ed7-9056-787ca1823170",
   "metadata": {},
   "outputs": [
    {
     "data": {
      "text/plain": [
       "11"
      ]
     },
     "execution_count": 9,
     "metadata": {},
     "output_type": "execute_result"
    }
   ],
   "source": [
    "meu_metodo(5,6)"
   ]
  },
  {
   "cell_type": "code",
   "execution_count": 10,
   "id": "dd71f68f-9f0a-4564-9058-e933091666b0",
   "metadata": {},
   "outputs": [],
   "source": [
    "def meu_metodo_longo(arg1, arg2, arg3, arg4):\n",
    "    return arg1 + arg2 + arg3 + arg4"
   ]
  },
  {
   "cell_type": "code",
   "execution_count": 11,
   "id": "8eedf516-bbb6-44fb-a93a-f0e198284eee",
   "metadata": {},
   "outputs": [
    {
     "data": {
      "text/plain": [
       "18"
      ]
     },
     "execution_count": 11,
     "metadata": {},
     "output_type": "execute_result"
    }
   ],
   "source": [
    "meu_metodo_longo(2,4,5,7)"
   ]
  },
  {
   "cell_type": "code",
   "execution_count": 12,
   "id": "cfbd5275-36d6-4334-b860-3133afd1ef33",
   "metadata": {},
   "outputs": [],
   "source": [
    "def soma_simplificada(*args):\n",
    "    return sum(args)"
   ]
  },
  {
   "cell_type": "code",
   "execution_count": 13,
   "id": "6c0398ac-6130-4b95-99c1-15f0adb97675",
   "metadata": {},
   "outputs": [
    {
     "data": {
      "text/plain": [
       "32"
      ]
     },
     "execution_count": 13,
     "metadata": {},
     "output_type": "execute_result"
    }
   ],
   "source": [
    "soma_simplificada(6,7,5,4,3,5,2)"
   ]
  },
  {
   "cell_type": "code",
   "execution_count": 14,
   "id": "7d61d369-7859-404e-ae60-1ba88986133a",
   "metadata": {},
   "outputs": [],
   "source": [
    "def metodo_kwargs(*args, **kwargs):\n",
    "    print(args)\n",
    "    print(kwargs)"
   ]
  },
  {
   "cell_type": "code",
   "execution_count": 16,
   "id": "e3b4b60a-bd5c-49fb-9469-589bba4abc7b",
   "metadata": {},
   "outputs": [
    {
     "name": "stdout",
     "output_type": "stream",
     "text": [
      "(3, 'saa', 4, 'qualquer')\n",
      "{'nome': 'Ana', 'idade': 25}\n"
     ]
    }
   ],
   "source": [
    "metodo_kwargs(3, 'saa', 4, 'qualquer', nome='Ana', idade=25)"
   ]
  }
 ],
 "metadata": {
  "kernelspec": {
   "display_name": "Python 3 (ipykernel)",
   "language": "python",
   "name": "python3"
  },
  "language_info": {
   "codemirror_mode": {
    "name": "ipython",
    "version": 3
   },
   "file_extension": ".py",
   "mimetype": "text/x-python",
   "name": "python",
   "nbconvert_exporter": "python",
   "pygments_lexer": "ipython3",
   "version": "3.11.4"
  }
 },
 "nbformat": 4,
 "nbformat_minor": 5
}
