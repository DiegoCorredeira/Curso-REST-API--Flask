{
 "cells": [
  {
   "cell_type": "code",
   "execution_count": 16,
   "id": "7f6d939d-f077-4031-8cf6-16fad8300cc3",
   "metadata": {},
   "outputs": [],
   "source": [
    "meu_set = {4, \"valor\", 3, \"qualquer\"}"
   ]
  },
  {
   "cell_type": "code",
   "execution_count": 17,
   "id": "1bb27a04-d148-46a9-a788-27d70b00f692",
   "metadata": {},
   "outputs": [
    {
     "data": {
      "text/plain": [
       "{3, 4, 'qualquer', 'valor'}"
      ]
     },
     "execution_count": 17,
     "metadata": {},
     "output_type": "execute_result"
    }
   ],
   "source": [
    "meu_set"
   ]
  },
  {
   "cell_type": "code",
   "execution_count": 18,
   "id": "77aed392-72ef-4587-a69c-2cc7a74c2723",
   "metadata": {},
   "outputs": [],
   "source": [
    "meu_dicionario = {'nome': 'Ana', 'idade': 80 }"
   ]
  },
  {
   "cell_type": "code",
   "execution_count": 20,
   "id": "5b68339c-1678-4af2-82ef-97e73b567b52",
   "metadata": {},
   "outputs": [
    {
     "data": {
      "text/plain": [
       "'Ana'"
      ]
     },
     "execution_count": 20,
     "metadata": {},
     "output_type": "execute_result"
    }
   ],
   "source": [
    "meu_dicionario['nome'] "
   ]
  },
  {
   "cell_type": "code",
   "execution_count": 21,
   "id": "c492a818-949d-49fa-9f7c-c89f748dd810",
   "metadata": {},
   "outputs": [
    {
     "data": {
      "text/plain": [
       "'Ana'"
      ]
     },
     "execution_count": 21,
     "metadata": {},
     "output_type": "execute_result"
    }
   ],
   "source": [
    "meu_dicionario['nome']"
   ]
  },
  {
   "cell_type": "code",
   "execution_count": 22,
   "id": "6555b712-618b-4756-8907-f456dd7da474",
   "metadata": {},
   "outputs": [
    {
     "data": {
      "text/plain": [
       "80"
      ]
     },
     "execution_count": 22,
     "metadata": {},
     "output_type": "execute_result"
    }
   ],
   "source": [
    "meu_dicionario['idade']"
   ]
  },
  {
   "cell_type": "code",
   "execution_count": 24,
   "id": "97ee8f9a-739a-4dfd-9f73-f6f17809953b",
   "metadata": {},
   "outputs": [],
   "source": [
    "meu_dicionario_lista = [{'nome': 'Ana', 'idade': 80 }, \n",
    "                 {'nome': 'José', 'idade': 45}, \n",
    "                 {'nome': 'Maria', 'idade': 50}]"
   ]
  },
  {
   "cell_type": "code",
   "execution_count": 25,
   "id": "230b5a1b-08ce-4603-9df0-9441cbfb66b9",
   "metadata": {},
   "outputs": [
    {
     "data": {
      "text/plain": [
       "{'nome': 'Maria', 'idade': 50}"
      ]
     },
     "execution_count": 25,
     "metadata": {},
     "output_type": "execute_result"
    }
   ],
   "source": [
    "meu_dicionario_lista[2]"
   ]
  },
  {
   "cell_type": "code",
   "execution_count": 28,
   "id": "cabd28da-f857-4f46-baf7-571628da0e91",
   "metadata": {},
   "outputs": [],
   "source": [
    "loteria = {'nome': 'Fulano', 'numeros': (13,4,55,67,89)}"
   ]
  },
  {
   "cell_type": "code",
   "execution_count": 29,
   "id": "38498ac9-a8fc-484f-bd48-37cb2c704530",
   "metadata": {},
   "outputs": [
    {
     "data": {
      "text/plain": [
       "(13, 4, 55, 67, 89)"
      ]
     },
     "execution_count": 29,
     "metadata": {},
     "output_type": "execute_result"
    }
   ],
   "source": [
    "loteria['numeros']"
   ]
  },
  {
   "cell_type": "code",
   "execution_count": 30,
   "id": "e416a116-c0f6-415b-b1ce-1823657a89c7",
   "metadata": {},
   "outputs": [],
   "source": [
    "universidades = [ \n",
    "    {\n",
    "    'nome': \"Universidade Federal do Rio de Janeiro\", \n",
    "    'sigla': \"UFRJ\"\n",
    "  },\n",
    "    {\n",
    "    'nome': \"Universidade de São Paulo\", \n",
    "    'sigla': \"USP\"\n",
    "}\n",
    "                ]"
   ]
  },
  {
   "cell_type": "code",
   "execution_count": 31,
   "id": "82cc56e2-cf4d-4b01-b6d7-80654f52df2f",
   "metadata": {},
   "outputs": [
    {
     "data": {
      "text/plain": [
       "[{'nome': 'Universidade Federal do Rio de Janeiro', 'sigla': 'UFRJ'},\n",
       " {'nome': 'Universidade de São Paulo', 'sigla': 'USP'}]"
      ]
     },
     "execution_count": 31,
     "metadata": {},
     "output_type": "execute_result"
    }
   ],
   "source": [
    "universidades"
   ]
  }
 ],
 "metadata": {
  "kernelspec": {
   "display_name": "Python 3 (ipykernel)",
   "language": "python",
   "name": "python3"
  },
  "language_info": {
   "codemirror_mode": {
    "name": "ipython",
    "version": 3
   },
   "file_extension": ".py",
   "mimetype": "text/x-python",
   "name": "python",
   "nbconvert_exporter": "python",
   "pygments_lexer": "ipython3",
   "version": "3.11.4"
  }
 },
 "nbformat": 4,
 "nbformat_minor": 5
}
