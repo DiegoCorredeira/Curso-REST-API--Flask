{
 "cells": [
  {
   "cell_type": "code",
   "execution_count": 2,
   "id": "3cf88596-0cb1-4506-85cd-f3ef83ed2131",
   "metadata": {},
   "outputs": [
    {
     "data": {
      "text/plain": [
       "[0, 1, 4, 9, 16]"
      ]
     },
     "execution_count": 2,
     "metadata": {},
     "output_type": "execute_result"
    }
   ],
   "source": [
    "[x ** 2 for x in range(5)]"
   ]
  },
  {
   "cell_type": "code",
   "execution_count": 3,
   "id": "4e1f91fe-90d5-4f1a-8baa-b5b90d07aca0",
   "metadata": {},
   "outputs": [
    {
     "data": {
      "text/plain": [
       "[0, 2, 4, 6, 8]"
      ]
     },
     "execution_count": 3,
     "metadata": {},
     "output_type": "execute_result"
    }
   ],
   "source": [
    "list(range(0,10,2))"
   ]
  },
  {
   "cell_type": "code",
   "execution_count": 4,
   "id": "6bf3982b-7626-47c1-bc8a-08de92e25d4e",
   "metadata": {},
   "outputs": [
    {
     "data": {
      "text/plain": [
       "1"
      ]
     },
     "execution_count": 4,
     "metadata": {},
     "output_type": "execute_result"
    }
   ],
   "source": [
    "10 % 3"
   ]
  },
  {
   "cell_type": "code",
   "execution_count": 5,
   "id": "01cb02ed-4b24-4978-adc5-3492eb5b611d",
   "metadata": {},
   "outputs": [
    {
     "data": {
      "text/plain": [
       "1"
      ]
     },
     "execution_count": 5,
     "metadata": {},
     "output_type": "execute_result"
    }
   ],
   "source": [
    "1 % 2"
   ]
  },
  {
   "cell_type": "code",
   "execution_count": 6,
   "id": "f08f17a9-e5dc-4095-848f-a4e7e89d680e",
   "metadata": {},
   "outputs": [
    {
     "name": "stdout",
     "output_type": "stream",
     "text": [
      "[1, 3, 5, 7, 9]\n"
     ]
    }
   ],
   "source": [
    "print([n for n in range(11) if n %2 == 1]) # O primeiro N é o resultado!!"
   ]
  },
  {
   "cell_type": "code",
   "execution_count": 8,
   "id": "2ddd973f-64c2-48ce-8ee0-849df3538365",
   "metadata": {},
   "outputs": [],
   "source": [
    "pessoas = ['Ana ', 'manuela', 'FiLiPe', 'PeDrO']"
   ]
  },
  {
   "cell_type": "code",
   "execution_count": 9,
   "id": "6e71a47d-f761-47ee-b7f9-4c121392c35b",
   "metadata": {},
   "outputs": [],
   "source": [
    "ana = ' Ana'"
   ]
  },
  {
   "cell_type": "code",
   "execution_count": 10,
   "id": "0c101287-6045-4b5d-b47f-9c161a4bc8b1",
   "metadata": {},
   "outputs": [
    {
     "data": {
      "text/plain": [
       "'Ana'"
      ]
     },
     "execution_count": 10,
     "metadata": {},
     "output_type": "execute_result"
    }
   ],
   "source": [
    "ana.strip() # Retira os espaços"
   ]
  },
  {
   "cell_type": "code",
   "execution_count": 11,
   "id": "b6bfb81e-02c1-4290-b950-c4ee8e3523c2",
   "metadata": {},
   "outputs": [
    {
     "data": {
      "text/plain": [
       "' ana'"
      ]
     },
     "execution_count": 11,
     "metadata": {},
     "output_type": "execute_result"
    }
   ],
   "source": [
    "ana.lower() # Deixa em Minusculo"
   ]
  },
  {
   "cell_type": "code",
   "execution_count": 12,
   "id": "244515de-a916-4374-84f3-1d0e29805d7b",
   "metadata": {},
   "outputs": [
    {
     "data": {
      "text/plain": [
       "' ANA'"
      ]
     },
     "execution_count": 12,
     "metadata": {},
     "output_type": "execute_result"
    }
   ],
   "source": [
    "ana.upper() # Deixa em maiusculo"
   ]
  },
  {
   "cell_type": "code",
   "execution_count": 15,
   "id": "684ec2bb-2565-4ec5-aedf-bb9654819206",
   "metadata": {},
   "outputs": [
    {
     "data": {
      "text/plain": [
       "'Ana'"
      ]
     },
     "execution_count": 15,
     "metadata": {},
     "output_type": "execute_result"
    }
   ],
   "source": [
    "ana.strip().capitalize()"
   ]
  },
  {
   "cell_type": "code",
   "execution_count": 17,
   "id": "63dc0380-cb95-446b-80b3-5c6b3902e579",
   "metadata": {},
   "outputs": [
    {
     "data": {
      "text/plain": [
       "['Ana ', 'manuela', 'FiLiPe', 'PeDrO']"
      ]
     },
     "execution_count": 17,
     "metadata": {},
     "output_type": "execute_result"
    }
   ],
   "source": [
    "pessoas"
   ]
  },
  {
   "cell_type": "code",
   "execution_count": 19,
   "id": "2de5e4c2-8195-400c-9c84-23699d4df62e",
   "metadata": {},
   "outputs": [],
   "source": [
    "pessoas_normalizadas = [pessoa.strip().capitalize() for pessoa in pessoas]"
   ]
  },
  {
   "cell_type": "code",
   "execution_count": 20,
   "id": "7386cbc3-11c9-48a6-8eb3-f3b91dc053ac",
   "metadata": {},
   "outputs": [
    {
     "data": {
      "text/plain": [
       "['Ana', 'Manuela', 'Filipe', 'Pedro']"
      ]
     },
     "execution_count": 20,
     "metadata": {},
     "output_type": "execute_result"
    }
   ],
   "source": [
    "pessoas_normalizadas"
   ]
  }
 ],
 "metadata": {
  "kernelspec": {
   "display_name": "Python 3 (ipykernel)",
   "language": "python",
   "name": "python3"
  },
  "language_info": {
   "codemirror_mode": {
    "name": "ipython",
    "version": 3
   },
   "file_extension": ".py",
   "mimetype": "text/x-python",
   "name": "python",
   "nbconvert_exporter": "python",
   "pygments_lexer": "ipython3",
   "version": "3.11.4"
  }
 },
 "nbformat": 4,
 "nbformat_minor": 5
}
